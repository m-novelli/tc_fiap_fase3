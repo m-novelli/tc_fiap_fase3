{
 "cells": [
  {
   "cell_type": "markdown",
   "id": "873a85bc",
   "metadata": {},
   "source": [
    "## Treinamento de Modelos de Machine Learning para Previsão de Retorno de Ações\n",
    "\n",
    "Este notebook demonstra o processo de geração de features, criação de targets e treinamento de modelos Random Forest Regressor\n",
    "para previsão de retornos futuros de ações, com base em um script completo de otimização de portfólio."
   ]
  },
  {
   "cell_type": "code",
   "execution_count": 2,
   "id": "422cf25f",
   "metadata": {},
   "outputs": [],
   "source": [
    "# Importação das bibliotecas\n",
    "import pandas as pd\n",
    "import numpy as np\n",
    "from sklearn.ensemble import RandomForestRegressor\n",
    "from sklearn.model_selection import train_test_split\n",
    "from sklearn.metrics import mean_squared_error, r2_score\n",
    "import joblib\n",
    "from PortfolioOptimizer import PortfolioOptimizer\n",
    "from scipy.stats import spearmanr"
   ]
  },
  {
   "cell_type": "markdown",
   "id": "96f60ec4",
   "metadata": {},
   "source": [
    "### Carregamento dos dados e preparação da classe de otimização"
   ]
  },
  {
   "cell_type": "code",
   "execution_count": 3,
   "id": "9f1e49bd",
   "metadata": {},
   "outputs": [
    {
     "name": "stdout",
     "output_type": "stream",
     "text": [
      "Carregando e processando dados do DataFrame fornecido...\n",
      "Dados carregados com sucesso. Período analisado: 2007-01-03 até 2025-05-09\n",
      "Total de dias de negociação no período: 4618\n",
      "Tickers incluídos no portfólio: AAPL, GOOG, AMZN, NFLX, MSFT, IBM\n",
      "Benchmark utilizado: ^GSPC\n"
     ]
    }
   ],
   "source": [
    "# Carregar os dados históricos salvos localmente\n",
    "df_total = pd.read_csv('../datas/dados_base.csv')\n",
    "\n",
    "# Ajustar os tipos de colunas\n",
    "df_total['Date'] = pd.to_datetime(df_total['Date'])\n",
    "df_total['Close'] = df_total['Close'].astype(float)\n",
    "df_total['High'] = df_total['High'].astype(float)\n",
    "df_total['Low'] = df_total['Low'].astype(float)\n",
    "df_total['Open'] = df_total['Open'].astype(float)\n",
    "df_total['Volume'] = df_total['Volume'].astype(int)\n",
    "df_total['ticker'] = df_total['ticker'].astype(str)\n",
    "\n",
    "# Inicializar o otimizador\n",
    "USER_TICKERS = ['AAPL', 'GOOG', 'AMZN', 'NFLX', 'MSFT', 'IBM']\n",
    "BENCHMARK_TICKER = '^GSPC'\n",
    "optimizer = PortfolioOptimizer(df_total_data=df_total, tickers_list=USER_TICKERS, benchmark_ticker=BENCHMARK_TICKER)"
   ]
  },
  {
   "cell_type": "markdown",
   "id": "33cd362a",
   "metadata": {},
   "source": [
    "## Geração de features e targets para ML"
   ]
  },
  {
   "cell_type": "code",
   "execution_count": 4,
   "id": "a5f6c699",
   "metadata": {},
   "outputs": [
    {
     "name": "stdout",
     "output_type": "stream",
     "text": [
      "\n",
      "--- Preparando Features para Modelos de Machine Learning ---\n",
      "Features e targets preparados. Shape das features: (4518, 50). Número de targets: 6.\n"
     ]
    }
   ],
   "source": [
    "# Preparar features e targets com retorno futuro de 10 dias para menor ruido, alocação dinâmica\n",
    "features_df, targets_dict = optimizer.prepare_ml_features(target_window=10)"
   ]
  },
  {
   "cell_type": "markdown",
   "id": "e4b7a4ea",
   "metadata": {},
   "source": [
    "### Treinamento e Avaliação dos Modelos\n",
    "\n",
    "Experimentos realizados com diferentes estratégias de modelagem\n",
    "\n",
    "1. Random Forest com hiperparâmetros padrão (baseline)\n",
    "2. Random Forest com melhoria dos hiperparâmetros\n",
    "3. Random Forest com tuning via GridSearchCV e validação temporal"
   ]
  },
  {
   "cell_type": "markdown",
   "id": "ee118beb",
   "metadata": {},
   "source": [
    "1. Random Forest com hiperparâmetros padrão (baseline)"
   ]
  },
  {
   "cell_type": "code",
   "execution_count": 4,
   "id": "1120b394",
   "metadata": {},
   "outputs": [
    {
     "name": "stdout",
     "output_type": "stream",
     "text": [
      "Treinando modelo para: AAPL\n",
      "MSE: 0.0034 | R²: -0.1470 | OOB: 0.7146\n",
      "Treinando modelo para: GOOG\n",
      "MSE: 0.0035 | R²: -0.0656 | OOB: 0.7110\n",
      "Treinando modelo para: AMZN\n",
      "MSE: 0.0052 | R²: -0.0017 | OOB: 0.6919\n",
      "Treinando modelo para: NFLX\n",
      "MSE: 0.0106 | R²: -0.1101 | OOB: 0.7307\n",
      "Treinando modelo para: MSFT\n",
      "MSE: 0.0025 | R²: -0.0327 | OOB: 0.6953\n",
      "Treinando modelo para: IBM\n",
      "MSE: 0.0024 | R²: -0.0229 | OOB: 0.7017\n"
     ]
    }
   ],
   "source": [
    "models_dict = {}\n",
    "performance_dict = {}\n",
    "\n",
    "for ticker in USER_TICKERS:\n",
    "    print(f\"Treinando modelo para: {ticker}\")\n",
    "\n",
    "    X = features_df.copy()\n",
    "    y = targets_dict[ticker]\n",
    "\n",
    "    X_train, X_test, y_train, y_test = train_test_split(X, y, test_size=0.2, shuffle=False)\n",
    "\n",
    "    model = RandomForestRegressor(n_estimators=100, random_state=42, n_jobs=-1, oob_score=True)\n",
    "    model.fit(X_train, y_train)\n",
    "\n",
    "    y_pred = model.predict(X_test)\n",
    "    mse = mean_squared_error(y_test, y_pred)\n",
    "    r2 = r2_score(y_test, y_pred)\n",
    "    oob = model.oob_score_\n",
    "\n",
    "    print(f\"MSE: {mse:.4f} | R²: {r2:.4f} | OOB: {oob:.4f}\")\n",
    "\n",
    "    models_dict[ticker] = model\n",
    "    performance_dict[ticker] = {\"mse\": mse, \"r2\": r2, \"oob_score\": oob}"
   ]
  },
  {
   "cell_type": "markdown",
   "id": "ef9e03ba",
   "metadata": {},
   "source": [
    " Sobre o R2 negativo:\n",
    "\n",
    "Embora o R² seja uma métrica comum para avaliar modelos de regressão, ele não é a melhor referência em contextos de otimização de portfólio. Isso porque o objetivo aqui não é prever com precisão o valor exato dos retornos futuros, mas sim capturar relações relativas entre os ativos, ou seja, identificar quais tendem a performar melhor ou pior. Um modelo com R² baixo pode ainda assim gerar alocações eficientes se for capaz de ordenar corretamente os ativos por potencial de retorno, levando a portfólios com bom desempenho em métricas como Sharpe, drawdown ou retorno ajustado ao risco.\n"
   ]
  },
  {
   "cell_type": "markdown",
   "id": "b695444e",
   "metadata": {},
   "source": [
    "Teste de Modelo de LGBM para APPLE\n",
    "\n",
    "(sem ganhos para o Random Forest Regressor)"
   ]
  },
  {
   "cell_type": "code",
   "execution_count": 5,
   "id": "033f31e1",
   "metadata": {},
   "outputs": [
    {
     "name": "stdout",
     "output_type": "stream",
     "text": [
      "[LightGBM] [Info] Auto-choosing col-wise multi-threading, the overhead of testing was 0.002500 seconds.\n",
      "You can set `force_col_wise=true` to remove the overhead.\n",
      "[LightGBM] [Info] Total Bins 12750\n",
      "[LightGBM] [Info] Number of data points in the train set: 3614, number of used features: 50\n",
      "[LightGBM] [Info] Start training from score 0.003044\n",
      "Random Forest - R²: -0.022905961943677555  | MSE: 0.002382594326092302\n",
      "LightGBM      - R²: -0.2120263121042163  | MSE: 0.0028231011664130736\n"
     ]
    }
   ],
   "source": [
    "from sklearn.ensemble import RandomForestRegressor\n",
    "from lightgbm import LGBMRegressor\n",
    "from sklearn.metrics import r2_score, mean_squared_error\n",
    "from sklearn.model_selection import train_test_split\n",
    "\n",
    "# X e y já devem estar prontos\n",
    "X_train, X_test, y_train, y_test = train_test_split(X, y, test_size=0.2, shuffle=False)\n",
    "\n",
    "# Random Forest\n",
    "rf = RandomForestRegressor(n_estimators=100, random_state=42)\n",
    "rf.fit(X_train, y_train)\n",
    "rf_r2 = r2_score(y_test, rf.predict(X_test))\n",
    "rf_mse = mean_squared_error(y_test, rf.predict(X_test))\n",
    "\n",
    "# LightGBM\n",
    "lgb = LGBMRegressor(n_estimators=100, random_state=42)\n",
    "lgb.fit(X_train, y_train)\n",
    "lgb_r2 = r2_score(y_test, lgb.predict(X_test))\n",
    "lgb_mse = mean_squared_error(y_test, lgb.predict(X_test))\n",
    "\n",
    "print(\"Random Forest - R²:\", rf_r2, \" | MSE:\", rf_mse)\n",
    "print(\"LightGBM      - R²:\", lgb_r2, \" | MSE:\", lgb_mse)\n"
   ]
  },
  {
   "cell_type": "markdown",
   "id": "7b236e24",
   "metadata": {},
   "source": [
    "2. Melhora dos Parametros do Random Forest"
   ]
  },
  {
   "cell_type": "code",
   "execution_count": 6,
   "id": "503d73ce",
   "metadata": {},
   "outputs": [
    {
     "name": "stdout",
     "output_type": "stream",
     "text": [
      "Treinando modelo para: AAPL\n",
      "MSE: 0.0031 | R²: -0.0371 | OOB: 0.1628\n",
      "Treinando modelo para: GOOG\n",
      "MSE: 0.0034 | R²: -0.0304 | OOB: 0.1267\n",
      "Treinando modelo para: AMZN\n",
      "MSE: 0.0052 | R²: -0.0085 | OOB: 0.1410\n",
      "Treinando modelo para: NFLX\n",
      "MSE: 0.0094 | R²: 0.0165 | OOB: 0.2109\n",
      "Treinando modelo para: MSFT\n",
      "MSE: 0.0025 | R²: -0.0088 | OOB: 0.1413\n",
      "Treinando modelo para: IBM\n",
      "MSE: 0.0024 | R²: -0.0148 | OOB: 0.1570\n"
     ]
    }
   ],
   "source": [
    "models_dict = {}\n",
    "performance_dict = {}\n",
    "\n",
    "for ticker in USER_TICKERS:\n",
    "    print(f\"Treinando modelo para: {ticker}\")\n",
    "\n",
    "    X = features_df.copy()\n",
    "    y = targets_dict[ticker]\n",
    "\n",
    "    X_train, X_test, y_train, y_test = train_test_split(X, y, test_size=0.2, shuffle=False)\n",
    "\n",
    "    model = RandomForestRegressor(\n",
    "    n_estimators=300,\n",
    "    max_depth=5,\n",
    "    min_samples_leaf=10,\n",
    "    max_features='sqrt',\n",
    "    bootstrap=True,\n",
    "    max_samples=0.8,\n",
    "    oob_score=True,\n",
    "    random_state=42,\n",
    "    n_jobs=-1\n",
    ")\n",
    "    model.fit(X_train, y_train)\n",
    "\n",
    "    y_pred = model.predict(X_test)\n",
    "    mse = mean_squared_error(y_test, y_pred)\n",
    "    r2 = r2_score(y_test, y_pred)\n",
    "    oob = model.oob_score_\n",
    "\n",
    "    print(f\"MSE: {mse:.4f} | R²: {r2:.4f} | OOB: {oob:.4f}\")\n",
    "\n",
    "    models_dict[ticker] = model\n",
    "    performance_dict[ticker] = {\"mse\": mse, \"r2\": r2, \"oob_score\": oob}"
   ]
  },
  {
   "cell_type": "markdown",
   "id": "8644defc",
   "metadata": {},
   "source": [
    "3. Random Forest com tuning via GridSearchCV e validação temporal"
   ]
  },
  {
   "cell_type": "markdown",
   "id": "2363ec43",
   "metadata": {},
   "source": [
    "Queremos encontrar a melhor combinação de hiperparâmetros para o RandomForestRegressor, avaliando seu desempenho com uma técnica que respeita a ordem do tempo.\n",
    "\n",
    "Com o GridSearchCV testamos todas as combinações possíveis dos hiperparâmetros definidos.\n",
    "\n",
    "Com o TimeSeriesSplit usamos uma forma de validação cruzada (CV) sem embaralhar os dados.\n",
    "\n",
    "Treina no nosso caso 18 modelos, e ficamos com o melhor R2."
   ]
  },
  {
   "cell_type": "code",
   "execution_count": 6,
   "id": "0e5b473d",
   "metadata": {},
   "outputs": [
    {
     "name": "stdout",
     "output_type": "stream",
     "text": [
      "\n",
      "Tuning para: AAPL\n",
      "\n",
      "Tuning para: GOOG\n",
      "\n",
      "Tuning para: AMZN\n",
      "\n",
      "Tuning para: NFLX\n",
      "\n",
      "Tuning para: MSFT\n",
      "\n",
      "Tuning para: IBM\n",
      "Modelo salvo: ../api/model/ml_model_AAPL.joblib\n",
      "Modelo salvo: ../api/model/ml_model_GOOG.joblib\n",
      "Modelo salvo: ../api/model/ml_model_AMZN.joblib\n",
      "Modelo salvo: ../api/model/ml_model_NFLX.joblib\n",
      "Modelo salvo: ../api/model/ml_model_MSFT.joblib\n",
      "Modelo salvo: ../api/model/ml_model_IBM.joblib\n"
     ]
    }
   ],
   "source": [
    "from sklearn.ensemble import RandomForestRegressor\n",
    "from sklearn.model_selection import TimeSeriesSplit, GridSearchCV, train_test_split\n",
    "from sklearn.metrics import mean_squared_error, r2_score\n",
    "import pandas as pd\n",
    "import joblib\n",
    "import os\n",
    "\n",
    "USER_TICKERS = ['AAPL', 'GOOG', 'AMZN', 'NFLX', 'MSFT', 'IBM']\n",
    "\n",
    "param_grid = {\n",
    "    'max_depth': [3, 5, 7],\n",
    "    'min_samples_leaf': [5, 10, 20],\n",
    "    'max_features': ['sqrt', 'log2']\n",
    "}\n",
    "\n",
    "tscv = TimeSeriesSplit(n_splits=5)\n",
    "\n",
    "rf = RandomForestRegressor(\n",
    "    n_estimators=300,\n",
    "    bootstrap=True,\n",
    "    oob_score=True,\n",
    "    random_state=42,\n",
    "    n_jobs=-1\n",
    ")\n",
    "\n",
    "melhores_parametros_por_ticker = {}\n",
    "\n",
    "for ticker in USER_TICKERS:\n",
    "    print(f\"\\nTuning para: {ticker}\")\n",
    "    X = features_df.copy()\n",
    "    y = targets_dict[ticker]\n",
    "    X, y = X.loc[y.index], y.loc[X.index]\n",
    "    X_train, X_test, y_train, y_test = train_test_split(X, y, test_size=0.2, shuffle=False)\n",
    "\n",
    "    grid = GridSearchCV(rf, param_grid, cv=tscv, scoring='r2', n_jobs=-1)\n",
    "    grid.fit(X_train, y_train)\n",
    "\n",
    "    best_model = grid.best_estimator_\n",
    "\n",
    "    # Avaliar o modelo no teste\n",
    "    y_pred = best_model.predict(X_test)\n",
    "    mse = mean_squared_error(y_test, y_pred)\n",
    "    r2 = r2_score(y_test, y_pred)\n",
    "    oob = best_model.oob_score_ if hasattr(best_model, 'oob_score_') else None\n",
    "\n",
    "    melhores_parametros_por_ticker[ticker] = {\n",
    "        'melhores_parametros': grid.best_params_,\n",
    "        'r2_validacao_cruzada': grid.best_score_,\n",
    "        'best_model': best_model,\n",
    "        'metrics': {\n",
    "            'mse': mse,\n",
    "            'r2': r2,\n",
    "            'oob_score': oob\n",
    "        }\n",
    "    }\n",
    "\n",
    "\n",
    "\n",
    "for ticker, info in melhores_parametros_por_ticker.items():\n",
    "    caminho = f\"../api/model/ml_model_{ticker}.joblib\"\n",
    "    joblib.dump(info['best_model'], caminho)\n",
    "    print(f\"Modelo salvo: {caminho}\")\n"
   ]
  },
  {
   "cell_type": "markdown",
   "id": "4a62dc95",
   "metadata": {},
   "source": [
    "Como foi o melhor modelo em termos de r2 neste primeiro momento, foi o selecionado para a otimizaçao do portfólio e utilizaçao na API"
   ]
  },
  {
   "cell_type": "markdown",
   "id": "217677cb",
   "metadata": {},
   "source": [
    "### Otimização do portfólio com os modelos treinados"
   ]
  },
  {
   "cell_type": "code",
   "execution_count": null,
   "id": "f8dbaf23",
   "metadata": {},
   "outputs": [
    {
     "name": "stdout",
     "output_type": "stream",
     "text": [
      "\n",
      "--- Otimizando Portfólio com Base em Previsões de Machine Learning ---\n",
      "  Retornos previstos para o próximo período: {'AAPL': np.float64(0.021674730431978435), 'GOOG': np.float64(0.011720686744511667), 'AMZN': np.float64(0.019535066932621758), 'NFLX': np.float64(0.013957469429114926), 'MSFT': np.float64(0.005068679001091514), 'IBM': np.float64(0.012037487043870301)}\n",
      "Otimização com ML concluída!\n",
      "  Retorno Esperado Anual do Portfólio (histórico com pesos ML): 0.2771\n",
      "  Volatilidade Anual do Portfólio (histórico com pesos ML): 0.2565\n",
      "  Índice de Sharpe Anualizado (histórico com pesos ML): 1.0024\n",
      "  Pesos Ótimos (baseados em ML):\n",
      "    AAPL: 0.2581\n",
      "    GOOG: 0.1395\n",
      "    AMZN: 0.2326\n",
      "    NFLX: 0.1662\n",
      "    MSFT: 0.0603\n",
      "    IBM: 0.1433\n"
     ]
    }
   ],
   "source": [
    "# --- Otimização do portfólio com base nas previsões dos modelos ---\n",
    "ml_optimization_results = optimizer.optimize_ml_portfolio(models_dict, features_df)\n",
    "\n"
   ]
  },
  {
   "cell_type": "markdown",
   "id": "baa615b9",
   "metadata": {},
   "source": [
    "Backtest com os pesos otimizados"
   ]
  },
  {
   "cell_type": "code",
   "execution_count": 16,
   "id": "9f14e4d3",
   "metadata": {},
   "outputs": [
    {
     "name": "stdout",
     "output_type": "stream",
     "text": [
      "\n",
      "--- Realizando Backtesting do Portfólio ---\n",
      "  Período do Backtest: 2007-05-14 até 2025-05-09 (4528 dias)\n",
      "  Retorno Total do Portfólio: 7272.9866%\n",
      "  Retorno Anualizado do Portfólio: 27.0402%\n",
      "  Volatilidade Anualizada do Portfólio: 25.7052%\n",
      "  Índice de Sharpe do Portfólio: 0.9741\n",
      "  Máximo Drawdown do Portfólio: -51.2655%\n"
     ]
    },
    {
     "data": {
      "image/png": "[encoded data removed]",
      "text/plain": [
       "<Figure size 1200x600 with 1 Axes>"
      ]
     },
     "metadata": {},
     "output_type": "display_data"
    }
   ],
   "source": [
    "# --- Backtest da estratégia com os pesos calculados ---\n",
    "backtest_results = optimizer.backtest_portfolio(\n",
    "    weights_input=ml_optimization_results['weights'],\n",
    "    start_date_str=features_df.index[0].strftime('%Y-%m-%d')  # início das features\n",
    ")\n",
    "\n"
   ]
  },
  {
   "cell_type": "markdown",
   "id": "ee921c69",
   "metadata": {},
   "source": [
    "### Conclusão e Interpretação:\n",
    "\n",
    "Período do Backtest: de 14/05/2007 a 09/05/2025, totalizando 4528 dias úteis.\n",
    "\n",
    "Retorno Total do Portfólio: 7272,99% – o capital multiplicou mais de 73 vezes no período.\n",
    "\n",
    "Retorno Anualizado: 27,04% ao ano – crescimento médio composto anual.\n",
    "\n",
    "Volatilidade Anualizada: 25,71% – indica alta oscilação nos retornos.\n",
    "\n",
    "Índice de Sharpe: 0,97 – retorno razoável em relação ao risco; valores acima de 1 são considerados bons.\n",
    "\n",
    "Máximo Drawdown: -51,27% – pior queda registrada do topo ao fundo, ou seja, o portfólio chegou a perder mais da metade do valor em determinado momento."
   ]
  },
  {
   "cell_type": "markdown",
   "id": "d0eec631",
   "metadata": {},
   "source": []
  },
  {
   "cell_type": "markdown",
   "id": "f237b151",
   "metadata": {},
   "source": [
    "### Limitações e Próximos Passos\n",
    "\n",
    "O modelo de machine learning foi utilizado para prever retornos e gerar uma alocação ótima de ativos, com foco na maximização do retorno ajustado ao risco.\n",
    "\n",
    "O backtest realizado aplicou os pesos gerados com base nas previsões feitas no fim da base de dados (última linha de features), e simulou seu desempenho retroativamente desde 2007.\n",
    "\n",
    "Essa abordagem é útil como validação do potencial dos sinais gerados pelos modelos, mas possui uma limitação importante: os pesos utilizados não estariam disponíveis em 2007, o que caracteriza um viés de lookahead.\n",
    "\n",
    "Portanto, os resultados obtidos não devem ser interpretados como o que seria possível alcançar na prática, mas sim como uma simulação exploratória da capacidade dos modelos de orientar decisões de alocação.\n",
    "\n",
    "Implementar um backtest com rebalanceamento periódico, onde os pesos são recalculados ao longo do tempo, com base apenas nas informações disponíveis até cada momento."
   ]
  }
 ],
 "metadata": {
  "kernelspec": {
   "display_name": ".venv",
   "language": "python",
   "name": "python3"
  },
  "language_info": {
   "codemirror_mode": {
    "name": "ipython",
    "version": 3
   },
   "file_extension": ".py",
   "mimetype": "text/x-python",
   "name": "python",
   "nbconvert_exporter": "python",
   "pygments_lexer": "ipython3",
   "version": "3.11.7"
  }
 },
 "nbformat": 4,
 "nbformat_minor": 5
}
